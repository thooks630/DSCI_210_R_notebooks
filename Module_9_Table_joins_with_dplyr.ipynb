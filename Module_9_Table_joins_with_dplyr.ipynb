{
  "nbformat": 4,
  "nbformat_minor": 0,
  "metadata": {
    "kernelspec": {
      "display_name": "R",
      "language": "R",
      "name": "ir"
    },
    "language_info": {
      "codemirror_mode": "r",
      "file_extension": ".r",
      "mimetype": "text/x-r-source",
      "name": "R",
      "pygments_lexer": "r",
      "version": "3.5.1"
    },
    "colab": {
      "provenance": [],
      "include_colab_link": true
    }
  },
  "cells": [
    {
      "cell_type": "markdown",
      "metadata": {
        "id": "view-in-github",
        "colab_type": "text"
      },
      "source": [
        "<a href=\"https://colab.research.google.com/github/thooks630/DSCI_210_R_notebooks/blob/main/Module_9_Table_joins_with_dplyr.ipynb\" target=\"_parent\"><img src=\"https://colab.research.google.com/assets/colab-badge.svg\" alt=\"Open In Colab\"/></a>"
      ]
    },
    {
      "cell_type": "markdown",
      "metadata": {
        "id": "YiLrjFioVhyJ"
      },
      "source": [
        "# Module 9 - Table joins with `dplyr`"
      ]
    },
    {
      "cell_type": "markdown",
      "metadata": {
        "id": "-IFkCM1SVhyN"
      },
      "source": [
        "##Example: Recall the `students` and `courses` data sets from Activity 9.2.\n",
        "  "
      ]
    },
    {
      "cell_type": "code",
      "metadata": {
        "id": "XPE-FhAuVhyN"
      },
      "source": [
        "students <- read.csv('https://github.com/thooks630/DSCI_210_R_notebooks/raw/main/data/Students.csv')\n",
        "students\n",
        "\n",
        "courses <- read.csv('https://github.com/thooks630/DSCI_210_R_notebooks/raw/main/data/Courses.csv')\n",
        "courses\n"
      ],
      "execution_count": null,
      "outputs": []
    },
    {
      "cell_type": "markdown",
      "source": [
        "##Let's discuss using the `dplyr` package for table joins."
      ],
      "metadata": {
        "id": "R8Govj2TgssC"
      }
    },
    {
      "cell_type": "code",
      "source": [
        "library(dplyr)"
      ],
      "metadata": {
        "id": "tAX-ueRDgt1Q"
      },
      "execution_count": null,
      "outputs": []
    },
    {
      "cell_type": "markdown",
      "metadata": {
        "id": "zWJUmx8xWPZJ"
      },
      "source": [
        "## We can join the tables using an *inner join* as follows:"
      ]
    },
    {
      "cell_type": "code",
      "metadata": {
        "id": "Qr_JglQGVhyQ"
      },
      "source": [
        "inner_join(students, courses, by = 'ID')"
      ],
      "execution_count": null,
      "outputs": []
    },
    {
      "cell_type": "markdown",
      "metadata": {
        "id": "xYbhgXpBWaRX"
      },
      "source": [
        "##Next, let's join the tables using a *full join*:"
      ]
    },
    {
      "cell_type": "code",
      "metadata": {
        "id": "iVjmVqqTVhyR"
      },
      "source": [
        "full_join(students, courses, by = 'ID')"
      ],
      "execution_count": null,
      "outputs": []
    },
    {
      "cell_type": "markdown",
      "metadata": {
        "id": "OjJoafBjVhyR"
      },
      "source": [
        "##Finally, let's look at both a *left join*...\n",
        "\n",
        "\n"
      ]
    },
    {
      "cell_type": "code",
      "metadata": {
        "id": "NMNMVjvWVhyS"
      },
      "source": [
        "left_join(students, courses, by = 'ID')\n"
      ],
      "execution_count": null,
      "outputs": []
    },
    {
      "cell_type": "markdown",
      "source": [
        "##... and then a *right join* **bold text**"
      ],
      "metadata": {
        "id": "dUt7TRI0jGLt"
      }
    },
    {
      "cell_type": "code",
      "source": [
        "right_join(students, courses, by = 'ID')"
      ],
      "metadata": {
        "id": "TGS2zSp8jE7Y"
      },
      "execution_count": null,
      "outputs": []
    },
    {
      "cell_type": "markdown",
      "source": [
        "## <font color=\"red\"> OPTIONAL ACIVITY: Complete Problem 2 from Activity 9.2 using `dplyr` functions. "
      ],
      "metadata": {
        "id": "UXmbsqFtk7gh"
      }
    },
    {
      "cell_type": "code",
      "source": [
        "batting <- read.csv('https://github.com/thooks630/DSCI_210_R_notebooks/raw/main/data/Batting.csv')\n",
        "head(batting)\n",
        "\n",
        "teams <- read.csv('https://github.com/thooks630/DSCI_210_R_notebooks/raw/main/data/Teams.csv')\n",
        "head(teams)\n",
        "\n",
        "people <- read.csv('https://github.com/thooks630/DSCI_210_R_notebooks/raw/main/data/People.csv')\n",
        "head(people)"
      ],
      "metadata": {
        "id": "2wueIP-YmSY-"
      },
      "execution_count": null,
      "outputs": []
    },
    {
      "cell_type": "markdown",
      "source": [
        "*Hint*: To join using a left join by two variables, use `left_join(Table1, Table2, by = c('Var1','Var2'))`."
      ],
      "metadata": {
        "id": "pvCwS4gKnw2G"
      }
    },
    {
      "cell_type": "code",
      "source": [
        "## Your code here"
      ],
      "metadata": {
        "id": "5RRH8jaOoZyE"
      },
      "execution_count": null,
      "outputs": []
    }
  ]
}