{
  "nbformat": 4,
  "nbformat_minor": 0,
  "metadata": {
    "kernelspec": {
      "display_name": "R",
      "language": "R",
      "name": "ir"
    },
    "language_info": {
      "codemirror_mode": "r",
      "file_extension": ".r",
      "mimetype": "text/x-r-source",
      "name": "R",
      "pygments_lexer": "r",
      "version": "3.5.1"
    },
    "colab": {
      "provenance": [],
      "collapsed_sections": [],
      "include_colab_link": true
    }
  },
  "cells": [
    {
      "cell_type": "markdown",
      "metadata": {
        "id": "view-in-github",
        "colab_type": "text"
      },
      "source": [
        "<a href=\"https://colab.research.google.com/github/thooks630/DSCI_210_R_notebooks/blob/main/lecture_8_4_finding_and_visualizing_many_association_rules.ipynb\" target=\"_parent\"><img src=\"https://colab.research.google.com/assets/colab-badge.svg\" alt=\"Open In Colab\"/></a>"
      ]
    },
    {
      "cell_type": "markdown",
      "metadata": {
        "id": "65ka6I9FMRdm"
      },
      "source": [
        "### Introduction\n",
        "\n",
        "* `dplyr` is fine if we want to use just one LHS item to predict a single RHS item, *but...*\n",
        " * What about multiple LHS items?? \n",
        " * Best rule among all RHS items?? \n",
        "\n",
        "  The big idea: We need a better \"search\" algorithm!"
      ]
    },
    {
      "cell_type": "markdown",
      "metadata": {
        "id": "VJP-PTr2MRdo"
      },
      "source": [
        "### Automation with `arules`\n",
        "\n",
        "We can automate the process with the 'arules' package."
      ]
    },
    {
      "cell_type": "code",
      "metadata": {
        "id": "4h-h36gDMRdo",
        "outputId": "b5100f5b-77ce-4579-fccf-2e2b60b8f06d",
        "colab": {
          "base_uri": "https://localhost:8080/"
        }
      },
      "source": [
        "install.packages(\"arules\")"
      ],
      "execution_count": 1,
      "outputs": [
        {
          "output_type": "stream",
          "name": "stderr",
          "text": [
            "Installing package into ‘/usr/local/lib/R/site-library’\n",
            "(as ‘lib’ is unspecified)\n",
            "\n"
          ]
        }
      ]
    },
    {
      "cell_type": "code",
      "metadata": {
        "id": "M1nxWdRsMRdp",
        "outputId": "35ce550c-8bcb-4072-d28e-29285cdda923",
        "colab": {
          "base_uri": "https://localhost:8080/"
        }
      },
      "source": [
        "library(arules)"
      ],
      "execution_count": 2,
      "outputs": [
        {
          "output_type": "stream",
          "name": "stderr",
          "text": [
            "Loading required package: Matrix\n",
            "\n",
            "\n",
            "Attaching package: ‘arules’\n",
            "\n",
            "\n",
            "The following objects are masked from ‘package:base’:\n",
            "\n",
            "    abbreviate, write\n",
            "\n",
            "\n"
          ]
        }
      ]
    },
    {
      "cell_type": "code",
      "metadata": {
        "id": "8zdpyW52MRdp",
        "outputId": "0df5115d-ef0b-48fa-984b-17bfc8a40472",
        "colab": {
          "base_uri": "https://localhost:8080/"
        }
      },
      "source": [
        "library(dplyr)\n",
        "library(tidyr)"
      ],
      "execution_count": 3,
      "outputs": [
        {
          "output_type": "stream",
          "name": "stderr",
          "text": [
            "\n",
            "Attaching package: ‘dplyr’\n",
            "\n",
            "\n",
            "The following objects are masked from ‘package:arules’:\n",
            "\n",
            "    intersect, recode, setdiff, setequal, union\n",
            "\n",
            "\n",
            "The following objects are masked from ‘package:stats’:\n",
            "\n",
            "    filter, lag\n",
            "\n",
            "\n",
            "The following objects are masked from ‘package:base’:\n",
            "\n",
            "    intersect, setdiff, setequal, union\n",
            "\n",
            "\n",
            "\n",
            "Attaching package: ‘tidyr’\n",
            "\n",
            "\n",
            "The following objects are masked from ‘package:Matrix’:\n",
            "\n",
            "    expand, pack, unpack\n",
            "\n",
            "\n"
          ]
        }
      ]
    },
    {
      "cell_type": "code",
      "metadata": {
        "id": "dnuwNaS_Mamd"
      },
      "source": [
        "groceries <- read.csv(\"https://github.com/WSU-DataScience/DSCI_210_R_notebooks/raw/main/data/Groceries.csv\")\n",
        "head(groceries)"
      ],
      "execution_count": null,
      "outputs": []
    },
    {
      "cell_type": "markdown",
      "source": [
        "### Formatting the Data\n",
        "\n",
        "The data needs to be transformed into an object of class *transactions*."
      ],
      "metadata": {
        "id": "SU99trxrwOBu"
      }
    },
    {
      "cell_type": "code",
      "source": [
        "groceries2 <- (groceries \n",
        "                %>% mutate(id = row_number()) \n",
        "                %>% gather(key = \"item\", value = \"val\", frankfurter:bags) \n",
        "                %>% mutate(val = ifelse(val==0,FALSE,TRUE)) \n",
        "                %>% spread(key = item, value = val) \n",
        "                %>% select(-id)\n",
        "               )\n",
        "head(groceries2)\n",
        "groceries3 <- as(groceries2,\"transactions\")\n"
      ],
      "metadata": {
        "id": "IfaZ4em-m5YH"
      },
      "execution_count": null,
      "outputs": []
    },
    {
      "cell_type": "markdown",
      "source": [
        "### Exploring the Dataset\n",
        "We can use the `summary` function to explore the data."
      ],
      "metadata": {
        "id": "c8dlMUUoxP29"
      }
    },
    {
      "cell_type": "code",
      "source": [
        "summary(groceries3)"
      ],
      "metadata": {
        "id": "yeU2foVexahO"
      },
      "execution_count": null,
      "outputs": []
    },
    {
      "cell_type": "markdown",
      "source": [
        "### Exploring the first five transactions\n",
        "We can use the `inspect` function to explore the first five transactions."
      ],
      "metadata": {
        "id": "ZDNu_vfMxs-V"
      }
    },
    {
      "cell_type": "code",
      "source": [
        "groceries3 %>% inspect() %>% head(5)"
      ],
      "metadata": {
        "id": "W0UAt7-Lxsd1"
      },
      "execution_count": null,
      "outputs": []
    },
    {
      "cell_type": "markdown",
      "source": [
        "### Determining how often each item was purchased\n",
        "We can use the `itemFrequency` function to determine what proportion of transactions included each item. Then, we can use the `itemFrequencyPlot` function to visualize the top 10 most frequently purchased items."
      ],
      "metadata": {
        "id": "TaJrhiGjyGE2"
      }
    },
    {
      "cell_type": "code",
      "source": [
        "itemFrequency(groceries3)\n",
        "itemFrequencyPlot(groceries3,topN=10)"
      ],
      "metadata": {
        "id": "WI06Co7EyRB9"
      },
      "execution_count": null,
      "outputs": []
    },
    {
      "cell_type": "markdown",
      "metadata": {
        "id": "J8ujq4f9MRdq"
      },
      "source": [
        "### Using the apriori algorithm\n",
        "\n",
        "\n",
        "* The `apriori` function can be used to find associations between the items in the dataset; we can use `parameter= ` to set min values.\n",
        "* Note the default: `parameter = list(support = .1, confidence = .8, maxlen = 10)`\n",
        "    * `minlen = 2` removes rules that contain less than two items\n",
        "    * `maxlen = 2` sets one item on LHS, one on RHS\n",
        "    *  **The \"support\" filter refers to the JOINT support!  *SUPPORT{LHS, RHS}***"
      ]
    },
    {
      "cell_type": "code",
      "metadata": {
        "id": "C5EZL_xIMRdq"
      },
      "source": [
        "groc_rules <- apriori(groceries3, \n",
        "                      parameter = list(supp = 0.01,\n",
        "                                       conf = 0.25,\n",
        "                                       minlen = 2))\n",
        "                    "
      ],
      "execution_count": null,
      "outputs": []
    },
    {
      "cell_type": "markdown",
      "source": [
        "### Evaluating the results\n",
        "\n",
        "Use `summary()` to get an overview of the association rules."
      ],
      "metadata": {
        "id": "Uao79BSv0RTG"
      }
    },
    {
      "cell_type": "code",
      "source": [
        "summary(groc_rules)"
      ],
      "metadata": {
        "id": "xGbPDhls0P12"
      },
      "execution_count": null,
      "outputs": []
    },
    {
      "cell_type": "markdown",
      "metadata": {
        "id": "NbWiLgFQMRdr"
      },
      "source": [
        "We can use `inspect()` to inspect the individual rules:"
      ]
    },
    {
      "cell_type": "code",
      "metadata": {
        "id": "lBiS7qHsMRdr"
      },
      "source": [
        "inspect(groc_rules[1:10]) "
      ],
      "execution_count": null,
      "outputs": []
    },
    {
      "cell_type": "markdown",
      "metadata": {
        "id": "2G_sFVZZMRdr"
      },
      "source": [
        "**Remember, the `support` column is the JOINT support of {LHS,RHS}**"
      ]
    },
    {
      "cell_type": "markdown",
      "source": [
        "### Sorting the association rules\n",
        "\n",
        "We can use the `sort()` function to sort rules according to support, confidence, or lift."
      ],
      "metadata": {
        "id": "e76bFojT1D0v"
      }
    },
    {
      "cell_type": "code",
      "source": [
        "groc_rules %>% sort(decreasing=TRUE, by=\"lift\") %>% head(10) %>% inspect"
      ],
      "metadata": {
        "id": "e-VkIVGS1Uue"
      },
      "execution_count": null,
      "outputs": []
    },
    {
      "cell_type": "markdown",
      "metadata": {
        "id": "Xo1hcw7OMRds"
      },
      "source": [
        "### Pull out the rules with whole.milk\n",
        "\n",
        "We can use the `subset()` function and the `%in%` operator to filter rules."
      ]
    },
    {
      "cell_type": "code",
      "metadata": {
        "id": "HaGGpWsgMRds"
      },
      "source": [
        "groc_rules %>%\n",
        "  subset(rhs %in% 'whole.milk') %>%\n",
        "  sort(by = 'lift', decreasing = TRUE) %>% head(10) %>%\n",
        "  inspect()\n"
      ],
      "execution_count": null,
      "outputs": []
    },
    {
      "cell_type": "markdown",
      "metadata": {
        "id": "JAhu_6NrMRdt"
      },
      "source": [
        "### A few more examples"
      ]
    },
    {
      "cell_type": "markdown",
      "source": [
        "#### Finding the 20 best rules for predicting whole milk, considering rules with at least 1% support."
      ],
      "metadata": {
        "id": "4zO8YE706NdP"
      }
    },
    {
      "cell_type": "code",
      "metadata": {
        "id": "McPtvc03MRdu"
      },
      "source": [
        "milk_rules_1pct <-  subset(groc_rules, rhs %in% 'whole.milk' & support > .01) \n",
        "milk_rules_1pct %>% \n",
        "  sort(by = \"lift\") %>%\n",
        "  head(20) %>% \n",
        "  inspect() "
      ],
      "execution_count": null,
      "outputs": []
    },
    {
      "cell_type": "markdown",
      "metadata": {
        "id": "hV6yodhyMRdv"
      },
      "source": [
        "#### Finding the 10 best rules overall, among rules with at least 2% support. "
      ]
    },
    {
      "cell_type": "code",
      "metadata": {
        "id": "DrhLEn0AMRdv"
      },
      "source": [
        "rules_10pct <-  subset(groc_rules, support > .02) \n",
        "rules_10pct %>% \n",
        "  sort(by=\"lift\") %>%\n",
        "  head(10) %>% \n",
        "  inspect()"
      ],
      "execution_count": null,
      "outputs": []
    },
    {
      "cell_type": "markdown",
      "metadata": {
        "id": "mSCKDBIGMRdw"
      },
      "source": [
        "### Visualizing association rules\n",
        "\n",
        "\n",
        "The `arulesViz` package can be used to visualize and interact with individual rules. "
      ]
    },
    {
      "cell_type": "code",
      "metadata": {
        "id": "8hqoMArCMRdw",
        "outputId": "c3281431-a04b-4744-d183-0bc5ac53d206",
        "colab": {
          "base_uri": "https://localhost:8080/"
        }
      },
      "source": [
        "install.packages('arulesViz')"
      ],
      "execution_count": 4,
      "outputs": [
        {
          "output_type": "stream",
          "name": "stderr",
          "text": [
            "Installing package into ‘/usr/local/lib/R/site-library’\n",
            "(as ‘lib’ is unspecified)\n",
            "\n",
            "also installing the dependencies ‘iterators’, ‘foreach’, ‘zoo’, ‘tweenr’, ‘polyclip’, ‘RcppEigen’, ‘gridExtra’, ‘RcppArmadillo’, ‘later’, ‘TSP’, ‘qap’, ‘gclus’, ‘ca’, ‘registry’, ‘lmtest’, ‘Rcpp’, ‘ggforce’, ‘ggrepel’, ‘viridis’, ‘tidygraph’, ‘graphlayouts’, ‘htmlwidgets’, ‘crosstalk’, ‘promises’, ‘lazyeval’, ‘seriation’, ‘vcd’, ‘igraph’, ‘scatterplot3d’, ‘ggraph’, ‘DT’, ‘plotly’, ‘visNetwork’\n",
            "\n",
            "\n"
          ]
        }
      ]
    },
    {
      "cell_type": "code",
      "metadata": {
        "id": "2RdPLXc8MRdw"
      },
      "source": [
        "library(arulesViz)"
      ],
      "execution_count": 12,
      "outputs": []
    },
    {
      "cell_type": "markdown",
      "metadata": {
        "id": "npZwZZscV6Qn"
      },
      "source": [
        "#### Scatter plot with `color = lift`"
      ]
    },
    {
      "cell_type": "code",
      "metadata": {
        "id": "DWBrCtzGMRdw"
      },
      "source": [
        "plot(rules_10pct)"
      ],
      "execution_count": null,
      "outputs": []
    },
    {
      "cell_type": "markdown",
      "metadata": {
        "id": "A17IXEICWK39"
      },
      "source": [
        "#### Rearranged scatter plot with `color = confidence`"
      ]
    },
    {
      "cell_type": "code",
      "metadata": {
        "id": "PYhmIQ0NMRdw"
      },
      "source": [
        "#change the visual encoding:\n",
        "plot(rules_10pct, measure = c('support','lift'), shading = 'confidence')"
      ],
      "execution_count": null,
      "outputs": []
    },
    {
      "cell_type": "markdown",
      "metadata": {
        "id": "KeVzZSRNWm93"
      },
      "source": [
        "#### More on plotting rules"
      ]
    },
    {
      "cell_type": "code",
      "metadata": {
        "id": "O0THpnJYRJ50"
      },
      "source": [
        "plot(rules_10pct, method = \"grouped\")"
      ],
      "execution_count": null,
      "outputs": []
    },
    {
      "cell_type": "code",
      "metadata": {
        "id": "SdvUnbwdW2it"
      },
      "source": [
        "plot(rules_10pct, method = \"graph\")\n",
        "\n",
        "rules_10pct %>% \n",
        "  sort(by=\"lift\") %>%\n",
        "  head(5) %>% \n",
        "  plot(method = \"graph\")"
      ],
      "execution_count": null,
      "outputs": []
    }
  ]
}