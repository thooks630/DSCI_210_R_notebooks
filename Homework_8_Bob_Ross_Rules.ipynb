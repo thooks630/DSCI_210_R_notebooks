{
  "nbformat": 4,
  "nbformat_minor": 0,
  "metadata": {
    "kernelspec": {
      "display_name": "R",
      "language": "R",
      "name": "ir"
    },
    "language_info": {
      "codemirror_mode": "r",
      "file_extension": ".r",
      "mimetype": "text/x-r-source",
      "name": "R",
      "pygments_lexer": "r",
      "version": "3.5.1"
    },
    "colab": {
      "name": "activity_8_4_Bob_Ross_Rules.ipynb",
      "provenance": [],
      "include_colab_link": true
    }
  },
  "cells": [
    {
      "cell_type": "markdown",
      "metadata": {
        "id": "view-in-github",
        "colab_type": "text"
      },
      "source": [
        "<a href=\"https://colab.research.google.com/github/thooks630/DSCI_210_R_notebooks/blob/main/Homework_8_Bob_Ross_Rules.ipynb\" target=\"_parent\"><img src=\"https://colab.research.google.com/assets/colab-badge.svg\" alt=\"Open In Colab\"/></a>"
      ]
    },
    {
      "cell_type": "markdown",
      "metadata": {
        "id": "RCDLPP-JNZ5C"
      },
      "source": [
        "For this assignment, we will consider the BobRoss dataset. Bob Ross was a painter that was often on public television. The purpose of this analysis is to determine which features were commonly used in conjunction with each other in his paintings.\n",
        "\n",
        "\n",
        "![](https://github.com/WSU-DataScience/DSCI_210_R_notebooks/raw/main/img/Bob.png)\n"
      ]
    },
    {
      "cell_type": "code",
      "metadata": {
        "id": "ebj-7TPBNZ5F"
      },
      "source": [
        "install.packages(\"arules\") # Must run everytime in Colab"
      ],
      "execution_count": null,
      "outputs": []
    },
    {
      "cell_type": "code",
      "metadata": {
        "id": "ruNswXmENZ5G"
      },
      "source": [
        "library(arules)"
      ],
      "execution_count": null,
      "outputs": []
    },
    {
      "cell_type": "code",
      "metadata": {
        "id": "jAo3WU9sNZ5H"
      },
      "source": [
        "library(tidyr)\n",
        "library(dplyr)"
      ],
      "execution_count": 11,
      "outputs": []
    },
    {
      "cell_type": "code",
      "metadata": {
        "id": "nW7YPqqsNZ5H"
      },
      "source": [
        "bobross <- read.csv(\"https://github.com/WSU-DataScience/DSCI_210_R_notebooks/raw/main/data/BobRossPaintings.csv\")\n",
        "head(bobross)"
      ],
      "execution_count": null,
      "outputs": []
    },
    {
      "cell_type": "markdown",
      "metadata": {
        "id": "DI6SLy0nNZ5J"
      },
      "source": [
        "***Task 1***\n",
        "\n",
        "There are three columns that are very similar: `SNOWY_MOUNTAIN`, `MOUNTAIN`, and `MOUNTAINS`.  Make a new column called `ANY_MOUNTAIN` that equals 1 if any of the three appear in a painting, and 0 if none of the three appear.  Also ensure that `ANY_MOUNTAIN` is an integer.  Then remove `SNOWY_MOUNTAIN`, `MOUNTAIN`, and `MOUNTAINS` from the data set. Save your final data set to an object named `bobrossDB`."
      ]
    },
    {
      "cell_type": "code",
      "metadata": {
        "id": "NpyqbxR-NZ5K"
      },
      "source": [
        "# Your code here\n",
        "\n",
        "bobrossDB <- (bobross\n",
        "              %>% your code # Create the new column called ANY_MOUNTAIN (and make sure the values are saved as integers)\n",
        "              %>% your code # Drop the SNOWY_MOUNTAIN, MOUNTAIN, and MOUNTAINS columns from the data set\n",
        "              )\n",
        "bobrossDB %>% head"
      ],
      "execution_count": null,
      "outputs": []
    },
    {
      "cell_type": "markdown",
      "metadata": {
        "id": "sVw5lmedNZ5K"
      },
      "source": [
        "***Task 2*** \n",
        "\n",
        "Use `dplyr`/`tidyr` computations alone to compute the support of the LHS, the support of the RHS, the joint support, confidence, and lift for all rules of the form `{LHS} => {ANY_MOUNTAIN}` (considering only one item on the LHS).  Filter to include only rules with at least 10% joint support (hint: there are six of them), and print the joint support, confidence, and lift of these rules.\n",
        "\n",
        "*Hint: Look towards the end of the Lecture_8_3 colab notebook for guidance. Also note that you should remove the columns titled TID, EPISODE, and TITLE before stacking the data.*"
      ]
    },
    {
      "cell_type": "code",
      "metadata": {
        "id": "kiecHvJWNZ5L"
      },
      "source": [
        "# Your code here"
      ],
      "execution_count": null,
      "outputs": []
    },
    {
      "cell_type": "markdown",
      "metadata": {
        "id": "FZ_y3G09NZ5L"
      },
      "source": [
        "***Task 3*** \n",
        "\n",
        "Now, suppose we want to consider *all* length-two rules (any one LHS item, any one RHS item). To do this, you may use the `arules` package that was discussed in Lecture 8.4 (use `maxlen = 2` to restrict rules to length 2). \n",
        "\n",
        "I've included the code you need to create an object of class transactions named `bobrossDB3` below; make sure that the `bobrossDB` object being referenced is the one you created above in Task 1. \n",
        "\n",
        "Your job is to use the `apriori` function to create and evaluate rules. Then, make sure that you answer the following questions.\n",
        "\n",
        "a. Print the top-10 *best overall rules of length 2*, restricted to rules with at least 1% support and 25% confidence. \n",
        "\n",
        "b. Note that there are two \"best\" rules with the same lift, but with very different confidences. Interpret these two confidences; does it make sense that they are so different?\n",
        "\n",
        "c. Both of the \"top two\" rules have small joint supports. What is the best rule among those with at least 20% joint support?  **Interpret the lift of this rule.**"
      ]
    },
    {
      "cell_type": "code",
      "metadata": {
        "id": "npoXxut6NZ5L"
      },
      "source": [
        "bobrossDB2 <- (bobrossDB \n",
        "                %>% gather(key = \"feature\", value = \"val\", BARN:ANY_MOUNTAIN) \n",
        "                %>% mutate(val = ifelse(val==0,FALSE,TRUE)) \n",
        "                %>% spread(key = feature, value = val) \n",
        "                %>% select(-TID, -EPISODE, -TITLE)\n",
        "               )\n",
        "bobrossDB3 <- as(bobrossDB2, \"transactions\")\n",
        "\n",
        "bob_ross_rules <- apriori(# Your code here))\n",
        "# Your code here"
      ],
      "execution_count": null,
      "outputs": []
    },
    {
      "cell_type": "markdown",
      "metadata": {
        "id": "5CpENL7FNZ5N"
      },
      "source": [
        "***Task 4*** \n",
        "\n",
        "Construct some visualization of the top 10 rules from Task 3."
      ]
    },
    {
      "cell_type": "code",
      "metadata": {
        "id": "RbVxlC6TNZ5N"
      },
      "source": [
        "install.packages('arulesViz') # Must run everytime in Colab"
      ],
      "execution_count": null,
      "outputs": []
    },
    {
      "cell_type": "code",
      "metadata": {
        "id": "YTq1nVr8NZ5N"
      },
      "source": [
        "library(arulesViz)"
      ],
      "execution_count": null,
      "outputs": []
    },
    {
      "cell_type": "code",
      "metadata": {
        "id": "s_hWVXcBNZ5N"
      },
      "source": [
        "# Your code here"
      ],
      "execution_count": null,
      "outputs": []
    }
  ]
}